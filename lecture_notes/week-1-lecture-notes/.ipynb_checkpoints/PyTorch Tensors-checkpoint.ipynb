{
 "cells": [
  {
   "cell_type": "markdown",
   "metadata": {},
   "source": [
    "# PyTorch Tensors\n",
    "\n",
    "When the PyTorch backend is chosen for Keras, the Keras Tensors and operations wrap the underlying corresponding objects in PyTorch. In this notebook, we will take a look at these objects."
   ]
  },
  {
   "cell_type": "code",
   "execution_count": null,
   "metadata": {},
   "outputs": [],
   "source": [
    "# Set the Keras backend to PyTorch\n",
    "\n",
    "import os\n",
    "os.environ[\"KERAS_BACKEND\"] = 'torch'"
   ]
  },
  {
   "cell_type": "code",
   "execution_count": null,
   "metadata": {},
   "outputs": [],
   "source": [
    "import keras\n",
    "import torch"
   ]
  },
  {
   "cell_type": "code",
   "execution_count": null,
   "metadata": {},
   "outputs": [],
   "source": [
    "isinstance(keras.ops.convert_to_tensor([1.2, 3.4]), torch.Tensor)"
   ]
  },
  {
   "cell_type": "markdown",
   "metadata": {},
   "source": [
    "We will introduce some fundamental building blocks and operations in PyTorch. [Tensors](https://pytorch.org/docs/stable/generated/torch.tensor.html?highlight=tensor#torch.tensor) are low-level objects that we will be using all the time in PyTorch.\n",
    "\n",
    "#### Tensors\n",
    "You can think of Tensors as being multidimensional versions of vectors and arrays. When we build our neural network models, what we’re doing is defining a computational graph, where input data is processed through the layers of the network and sent through the graph all the way to the outputs. Tensors are the objects that get passed around within the graph, and capture those computations within the graph. \n",
    "\n",
    "Let’s take a look at some examples to get a better feel for how this works."
   ]
  },
  {
   "cell_type": "code",
   "execution_count": null,
   "metadata": {},
   "outputs": [],
   "source": [
    "# Create a Tensor\n",
    "\n",
    "a = torch.tensor([1, 2, 3])\n",
    "print(a)"
   ]
  },
  {
   "cell_type": "markdown",
   "metadata": {},
   "source": [
    "We can see that Tensors have `shape` and `dtype` properties, similar to NumPy arrays."
   ]
  },
  {
   "cell_type": "code",
   "execution_count": null,
   "metadata": {},
   "outputs": [],
   "source": [
    "# Examine shape property\n",
    "\n",
    "a.shape"
   ]
  },
  {
   "cell_type": "code",
   "execution_count": null,
   "metadata": {},
   "outputs": [],
   "source": [
    "# Examine dtype property\n",
    "\n",
    "a.dtype"
   ]
  },
  {
   "cell_type": "markdown",
   "metadata": {},
   "source": [
    "Tensor objects can have different types, just like NumPy arrays. Take a look [here](https://pytorch.org/docs/stable/tensor_attributes.html#torch.dtype) for a complete list of available types."
   ]
  },
  {
   "cell_type": "code",
   "execution_count": null,
   "metadata": {},
   "outputs": [],
   "source": [
    "# Create Tensor objects of different type\n",
    "\n",
    "int_tensor = torch.tensor([1, 2], dtype=torch.int32)\n",
    "float_tensor  = torch.tensor([3.14159, 2.71828], dtype=torch.float32)\n",
    "print(int_tensor)\n",
    "print(float_tensor)"
   ]
  },
  {
   "cell_type": "code",
   "execution_count": null,
   "metadata": {},
   "outputs": [],
   "source": [
    "# Create a rank-2 Tensor \n",
    "\n",
    "b = torch.tensor([[1.2, 0.4, 0.7], [-9.3, 4.5, 1.1]])\n",
    "b"
   ]
  },
  {
   "cell_type": "code",
   "execution_count": null,
   "metadata": {},
   "outputs": [],
   "source": [
    "# Create a Tensor with tf.zeros\n",
    "\n",
    "torch.zeros((3,))"
   ]
  },
  {
   "cell_type": "code",
   "execution_count": null,
   "metadata": {},
   "outputs": [],
   "source": [
    "# Create a Tensor with tf.ones\n",
    "\n",
    "ones = torch.ones((2, 2))"
   ]
  },
  {
   "cell_type": "code",
   "execution_count": null,
   "metadata": {},
   "outputs": [],
   "source": [
    "# Get Tensor rank\n",
    "\n",
    "print(torch.linalg.matrix_rank(b))\n",
    "print(torch.linalg.matrix_rank(ones))"
   ]
  },
  {
   "cell_type": "markdown",
   "metadata": {},
   "source": [
    "The number of Tensor dimensions (confusingly often also referred to as _rank_), can be obtained with the `ndim` attribute"
   ]
  },
  {
   "cell_type": "code",
   "execution_count": null,
   "metadata": {},
   "outputs": [],
   "source": [
    "# Get ndim attribute\n",
    "\n",
    "print(a.ndim)\n",
    "print(b.ndim)"
   ]
  },
  {
   "cell_type": "markdown",
   "metadata": {},
   "source": [
    "We can convert a PyTorch Tensor into a NumPy array using the `numpy` method."
   ]
  },
  {
   "cell_type": "code",
   "execution_count": null,
   "metadata": {},
   "outputs": [],
   "source": [
    "# Convert Tensor to NumPy array\n",
    "\n",
    "b_np = b.numpy()\n",
    "print(type(b_np))\n",
    "b_np"
   ]
  },
  {
   "cell_type": "markdown",
   "metadata": {},
   "source": [
    "We can compute Tensor multiplication using `torch.tensordot` (see the [docs](https://pytorch.org/docs/stable/generated/torch.tensordot.html)). The `dims` argument can be an integer or list of integers. When it is a single integer `n`, the contraction is performed over the last `n` axes of the first Tensor and the first `n` axes of the second Tensor. If it is a list, then the elements of the list specify the axes to contract."
   ]
  },
  {
   "cell_type": "code",
   "execution_count": null,
   "metadata": {},
   "outputs": [],
   "source": [
    "# Compute matrix-matrix product\n",
    "\n",
    "c = torch.tensor([[1.2, 3.4],\n",
    "                  [5.6, 7.8]])\n",
    "d = torch.tensor([[-1.0, -0.5],\n",
    "                  [0.5, 1.0]])\n",
    "\n",
    "torch.tensordot(c, d, dims=1)"
   ]
  },
  {
   "cell_type": "markdown",
   "metadata": {},
   "source": [
    "PyTorch is fussy about types. In operations such as the one above, the types of the two Tensors need to match."
   ]
  },
  {
   "cell_type": "code",
   "execution_count": null,
   "metadata": {},
   "outputs": [],
   "source": [
    "# This raises a type error\n",
    "\n",
    "try:\n",
    "    torch.tensordot(b, a, dims=1)\n",
    "except Exception as e:\n",
    "    print(e)"
   ]
  },
  {
   "cell_type": "code",
   "execution_count": null,
   "metadata": {},
   "outputs": [],
   "source": [
    "# Fix the type error and compute matrix-vector product\n",
    "\n",
    "a = a.float() # cast a to float type\n",
    "print(torch.tensordot(b, a, dims=1))  # Sum over last axis of b and first axis of a\n",
    "print(torch.tensordot(b, a, dims=[[1], [0]]))  # Equivalent"
   ]
  },
  {
   "cell_type": "markdown",
   "metadata": {},
   "source": [
    "For both rank-1 and rank-2 Tensors, we can use the `torch.matmul` function (or the @ symbol). `torch.matmul` will return the dot product if the two inputs are 1-dimensional, and will return the matrix multiplication of the two inputs otherwise.\n",
    "(For details, see the [docs](https://pytorch.org/docs/stable/generated/torch.matmul.html).) "
   ]
  },
  {
   "cell_type": "code",
   "execution_count": null,
   "metadata": {},
   "outputs": [],
   "source": [
    "# Use torch.matmul to compute product\n",
    "\n",
    "print(b.shape)\n",
    "print(a.shape)\n",
    "print(torch.matmul(b, a)) # works the same way as tensordot\n",
    "print(b @ a) # same as above"
   ]
  },
  {
   "cell_type": "markdown",
   "metadata": {},
   "source": [
    "Useful operations to manipulate Tensor shapes are `torch.unsqueeze`, `torch.squeeze` and `torch.reshape`."
   ]
  },
  {
   "cell_type": "code",
   "execution_count": null,
   "metadata": {},
   "outputs": [],
   "source": [
    "# Add an extra dimension to a Tensor\n",
    "\n",
    "a = torch.unsqueeze(a, 1)\n",
    "print(a.shape)"
   ]
  },
  {
   "cell_type": "code",
   "execution_count": null,
   "metadata": {},
   "outputs": [],
   "source": [
    "# Use tf.matmul, tf.squeeze and tf.reshape\n",
    "\n",
    "torch.reshape(torch.squeeze(torch.matmul(b, a)), [1, 2])"
   ]
  },
  {
   "cell_type": "markdown",
   "metadata": {},
   "source": [
    "It is also often useful to fill Tensors with random values."
   ]
  },
  {
   "cell_type": "code",
   "execution_count": null,
   "metadata": {},
   "outputs": [],
   "source": [
    "# Create a random normal Tensor\n",
    "\n",
    "torch.normal(mean=0.0, std=1.0, size=(3, 3))"
   ]
  },
  {
   "cell_type": "code",
   "execution_count": null,
   "metadata": {},
   "outputs": [],
   "source": [
    "# Create a random float Tensor\n",
    "\n",
    "torch.rand((2, 4), dtype=torch.float32)"
   ]
  },
  {
   "cell_type": "code",
   "execution_count": null,
   "metadata": {},
   "outputs": [],
   "source": [
    "# Create a random int Tensor\n",
    "\n",
    "torch.randint(low=0, high=10, size=(2,4))"
   ]
  },
  {
   "cell_type": "markdown",
   "metadata": {},
   "source": [
    "### Further reading and resources\n",
    "\n",
    "* PyTorch documentation: https://pytorch.org/docs/stable/index.html\n",
    "* PyTorch tutorials: https://pytorch.org/tutorials/"
   ]
  }
 ],
 "metadata": {
  "kernelspec": {
   "display_name": "Python 3 (ipykernel)",
   "language": "python",
   "name": "python3"
  },
  "language_info": {
   "codemirror_mode": {
    "name": "ipython",
    "version": 3
   },
   "file_extension": ".py",
   "mimetype": "text/x-python",
   "name": "python",
   "nbconvert_exporter": "python",
   "pygments_lexer": "ipython3",
   "version": "3.10.12"
  },
  "vscode": {
   "interpreter": {
    "hash": "71af07b5b758e79c617f41ec2d55d2f78e941e336c5c426a3d3cb59040dfeb91"
   }
  }
 },
 "nbformat": 4,
 "nbformat_minor": 4
}
