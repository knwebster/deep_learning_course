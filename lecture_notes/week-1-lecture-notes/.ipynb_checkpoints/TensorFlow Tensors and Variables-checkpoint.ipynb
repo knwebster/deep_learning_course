{
 "cells": [
  {
   "cell_type": "markdown",
   "id": "2a2e1459-8a7b-4641-a989-3c94e835b90d",
   "metadata": {},
   "source": [
    "# TensorFlow Tensors and Variables"
   ]
  },
  {
   "cell_type": "markdown",
   "id": "502f037a-b7f0-4f56-9c01-71ee20fdb5c8",
   "metadata": {},
   "source": [
    "When the TensorFlow backend is chosen for Keras, the Keras Tensors and operations wrap the underlying corresponding objects in TensorFlow. In this notebook, we will take a look at these objects."
   ]
  },
  {
   "cell_type": "code",
   "execution_count": null,
   "id": "397a7ad5-96b2-40de-9108-3e99664868a0",
   "metadata": {},
   "outputs": [],
   "source": [
    "# Set the Keras backend to TensorFlow\n",
    "\n",
    "import os\n",
    "os.environ[\"KERAS_BACKEND\"] = 'tensorflow'"
   ]
  },
  {
   "cell_type": "code",
   "execution_count": null,
   "id": "448120b4-bb75-4520-9d21-7be9c397dff0",
   "metadata": {},
   "outputs": [],
   "source": [
    "import keras\n",
    "import tensorflow as tf"
   ]
  },
  {
   "cell_type": "code",
   "execution_count": null,
   "id": "50909c41-352d-432f-be04-73ae0384dc9d",
   "metadata": {},
   "outputs": [],
   "source": [
    "isinstance(keras.ops.convert_to_tensor([1.2, 3.4]), tf.Tensor)"
   ]
  },
  {
   "cell_type": "markdown",
   "id": "b4cefa93-7174-4064-a840-96516bdb19e3",
   "metadata": {},
   "source": [
    "We will introduce some fundamental building blocks and operations in TensorFlow. [Tensors](https://www.tensorflow.org/api_docs/python/tf/Tensor) and [Variables](https://www.tensorflow.org/api_docs/python/tf/Variable) are low-level objects that are used all the time in TensorFlow.\n",
    "\n",
    "#### Tensors\n",
    "You can think of Tensors as being multidimensional versions of vectors and arrays. Of course, these are the objects that TensorFlow gets its name from. When we build our neural network models, what we’re doing is defining a computational graph, where input data is processed through the layers of the network and sent through the graph all the way to the outputs. Tensors are the objects that get passed around within the graph, and capture those computations within the graph. \n",
    "\n",
    "Let’s take a look at some examples to get a better feel for how this works."
   ]
  },
  {
   "cell_type": "code",
   "execution_count": null,
   "id": "7e5c394c-e1df-4b9c-b0ab-351fda281395",
   "metadata": {},
   "outputs": [],
   "source": [
    "# Create a constant Tensor\n",
    "\n",
    "a = tf.constant([1, 2, 3])\n",
    "print(a)"
   ]
  },
  {
   "cell_type": "markdown",
   "id": "ff1979d8-f5a4-45ae-ae59-8799010385cb",
   "metadata": {},
   "source": [
    "We can see that Tensors have `shape` and `dtype` properties, similar to NumPy arrays."
   ]
  },
  {
   "cell_type": "code",
   "execution_count": null,
   "id": "84888da7-be1f-4fa0-889f-353c72b1f6a8",
   "metadata": {},
   "outputs": [],
   "source": [
    "# Examine shape property\n",
    "\n",
    "a.shape"
   ]
  },
  {
   "cell_type": "code",
   "execution_count": null,
   "id": "0f9d304a-51f1-400d-92bc-aa27b614ff3f",
   "metadata": {},
   "outputs": [],
   "source": [
    "# Examine dtype property\n",
    "\n",
    "a.dtype"
   ]
  },
  {
   "cell_type": "markdown",
   "id": "abf05cd3-4b5c-4e65-a3ed-3c3d488c67e3",
   "metadata": {},
   "source": [
    "Tensor objects can have different types, just like NumPy arrays. Take a look [here](https://www.tensorflow.org/api_docs/python/tf#other-members_1) for a complete list of available types."
   ]
  },
  {
   "cell_type": "code",
   "execution_count": null,
   "id": "aff8713a-725c-4166-8fa2-1f5336dcf692",
   "metadata": {},
   "outputs": [],
   "source": [
    "# Create Tensor objects of different type\n",
    "\n",
    "string_tensor = tf.constant([\"Hello world!\"], tf.string)\n",
    "float_tensor  = tf.constant([3.14159, 2.71828], tf.float32)\n",
    "print(string_tensor)\n",
    "print(float_tensor)"
   ]
  },
  {
   "cell_type": "code",
   "execution_count": null,
   "id": "2d2207fd-0fbf-46c8-b6d5-a21bb571fec1",
   "metadata": {},
   "outputs": [],
   "source": [
    "# Create a rank-2 Tensor \n",
    "\n",
    "b = tf.constant([[1.2, 0.4, 0.7], [-9.3, 4.5, 1.1]])\n",
    "b"
   ]
  },
  {
   "cell_type": "code",
   "execution_count": null,
   "id": "cb6e040c-21a9-4862-ad8e-aa95230fc7c8",
   "metadata": {},
   "outputs": [],
   "source": [
    "# Get Tensor rank\n",
    "\n",
    "tf.rank(b)"
   ]
  },
  {
   "cell_type": "markdown",
   "id": "7f93dcce-9583-4d96-92bf-704dc6c398ac",
   "metadata": {},
   "source": [
    "Note that `tf.rank` means the number of Tensor dimensions. It is not the same as matrix rank, which can be computed using `tf.linalg.matrix_rank`."
   ]
  },
  {
   "cell_type": "code",
   "execution_count": null,
   "id": "2b5e3a5b-fccc-4a74-b535-92e014fc252b",
   "metadata": {},
   "outputs": [],
   "source": [
    "# Compute matrix rank\n",
    "\n",
    "tf.linalg.matrix_rank(b)"
   ]
  },
  {
   "cell_type": "code",
   "execution_count": null,
   "id": "29764163-9594-4204-9e79-edfdcd56e3b8",
   "metadata": {},
   "outputs": [],
   "source": [
    "# Create a Tensor with tf.ones\n",
    "\n",
    "ones = tf.ones((2, 2))\n",
    "ones"
   ]
  },
  {
   "cell_type": "code",
   "execution_count": null,
   "id": "a345fbd9-ce17-465c-ac47-4139ac316793",
   "metadata": {},
   "outputs": [],
   "source": [
    "# Compute the matrix rank of the tf.ones Tensor\n",
    "\n",
    "tf.linalg.matrix_rank(ones)"
   ]
  },
  {
   "cell_type": "code",
   "execution_count": null,
   "id": "76ed2463-a5ca-4ab1-8466-15790a73482d",
   "metadata": {},
   "outputs": [],
   "source": [
    "# Create a Tensor with tf.zeros\n",
    "\n",
    "tf.zeros((3,))"
   ]
  },
  {
   "cell_type": "markdown",
   "id": "0b2ec02d-e54e-462d-9cac-d4a708412e2e",
   "metadata": {},
   "source": [
    "We can convert a TensorFlow Tensor into a NumPy array using the `numpy` method."
   ]
  },
  {
   "cell_type": "code",
   "execution_count": null,
   "id": "06bfd287-56bb-4ec4-ab13-ea2c493a25eb",
   "metadata": {},
   "outputs": [],
   "source": [
    "# Convert Tensor to NumPy array\n",
    "\n",
    "b_np = b.numpy()\n",
    "print(type(b_np))\n",
    "b_np"
   ]
  },
  {
   "cell_type": "markdown",
   "id": "959235f7-3472-40cb-8413-da212851aeaa",
   "metadata": {},
   "source": [
    "We can compute Tensor multiplication using `tf.tensordot` (see the [docs](https://www.tensorflow.org/api_docs/python/tf/tensordot)). The `axes` argument can be an integer or list of integers. When it is a single integer `n`, the contraction is performed over the last `n` axes of the first Tensor and the first `n` axes of the second Tensor. If it is a list, then the elements of the list specify the axes to contract."
   ]
  },
  {
   "cell_type": "code",
   "execution_count": null,
   "id": "6256f27a-0ee0-44f5-91eb-accc1af585d1",
   "metadata": {},
   "outputs": [],
   "source": [
    "# Compute matrix-matrix product\n",
    "\n",
    "c = tf.constant([[1.2, 3.4],\n",
    "                 [5.6, 7.8]])\n",
    "d = tf.constant([[-1.0, -0.5],\n",
    "                 [0.5, 1.0]])\n",
    "\n",
    "tf.tensordot(c, d, axes=1)"
   ]
  },
  {
   "cell_type": "markdown",
   "id": "4d19f442-dbed-4653-a00a-cee988e7c387",
   "metadata": {},
   "source": [
    "TensorFlow is fussy about types. In operations such as the one above, the types of the two Tensors need to match."
   ]
  },
  {
   "cell_type": "code",
   "execution_count": null,
   "id": "c9b2d40f-92f7-4c67-971c-fb75004e24f9",
   "metadata": {},
   "outputs": [],
   "source": [
    "# This raises a type error\n",
    "\n",
    "try:\n",
    "    tf.tensordot(b, a, axes=1)\n",
    "except Exception as e:\n",
    "    print(e)"
   ]
  },
  {
   "cell_type": "code",
   "execution_count": null,
   "id": "c85bbb37-82ea-40c5-9db9-9def82876f03",
   "metadata": {},
   "outputs": [],
   "source": [
    "# Fix the type error and compute matrix-vector product\n",
    "\n",
    "a = tf.cast(a, tf.float32)\n",
    "print(tf.tensordot(b, a, axes=1))  # Sum over last axis of b and first axis of a\n",
    "print(tf.tensordot(b, a, axes=[[1], [0]]))  # Equivalent"
   ]
  },
  {
   "cell_type": "markdown",
   "id": "1019dd5d-9103-4b20-a044-f58ad540b948",
   "metadata": {},
   "source": [
    "In the case of two rank-2 Tensors, we can use the `tf.linalg.matmul` function (or the @ symbol). (In fact, we can use rank >= 2 Tensors with `tf.linalg.matmul` - see the [docs](https://www.tensorflow.org/api_docs/python/tf/linalg/matmul).) "
   ]
  },
  {
   "cell_type": "code",
   "execution_count": null,
   "id": "25168f9b-ae4a-4410-a095-44868c3fba6a",
   "metadata": {},
   "outputs": [],
   "source": [
    "# The following raises a shape error\n",
    "\n",
    "try:\n",
    "    tf.linalg.matmul(b, a)\n",
    "except Exception as e:\n",
    "    print(e)"
   ]
  },
  {
   "cell_type": "code",
   "execution_count": null,
   "id": "8932aeda-40a1-4685-bfb7-be193bb8c7b7",
   "metadata": {},
   "outputs": [],
   "source": [
    "# Inspect shapes\n",
    "\n",
    "print(b.shape)\n",
    "print(a.shape)"
   ]
  },
  {
   "cell_type": "markdown",
   "id": "ad1ae3bf-1f12-43e8-8457-f03e5177ad86",
   "metadata": {},
   "source": [
    "Useful operations to manipulate Tensor shapes are `tf.expand_dims`, `tf.squeeze` and `tf.reshape`."
   ]
  },
  {
   "cell_type": "code",
   "execution_count": null,
   "id": "5cc1c0e4-d4e2-4882-af0a-69bbcaf5f495",
   "metadata": {},
   "outputs": [],
   "source": [
    "# Add an extra dimension to a Tensor\n",
    "\n",
    "a = tf.expand_dims(a, 1)\n",
    "print(a.shape)"
   ]
  },
  {
   "cell_type": "code",
   "execution_count": null,
   "id": "25465e35-1cc1-4d7d-8728-d78bdbed1e94",
   "metadata": {},
   "outputs": [],
   "source": [
    "# Use tf.linalg.matmul to compute product\n",
    "\n",
    "tf.linalg.matmul(b, a)"
   ]
  },
  {
   "cell_type": "code",
   "execution_count": null,
   "id": "07eb685b-abdf-471e-a809-721d8b312097",
   "metadata": {},
   "outputs": [],
   "source": [
    "# Use tf.squeeze and tf.reshape\n",
    "\n",
    "tf.reshape(tf.squeeze(tf.linalg.matmul(b, a)), [1, 2])"
   ]
  },
  {
   "cell_type": "markdown",
   "id": "359431f6-7f88-41ad-a35c-c0c9501bfeb9",
   "metadata": {},
   "source": [
    "It is also often useful to fill Tensors with random values."
   ]
  },
  {
   "cell_type": "code",
   "execution_count": null,
   "id": "46faaa72-a3f1-47a8-a521-93b9bd6da875",
   "metadata": {},
   "outputs": [],
   "source": [
    "# Create a random normal Tensor\n",
    "\n",
    "tf.random.normal((3, 3))"
   ]
  },
  {
   "cell_type": "code",
   "execution_count": null,
   "id": "d44a0126-fc54-4c9d-b8f0-f10647ff6e44",
   "metadata": {},
   "outputs": [],
   "source": [
    "# Create a random integer Tensor\n",
    "\n",
    "tf.random.uniform(shape=(2, 4), minval=0, maxval=10, dtype='int32')"
   ]
  },
  {
   "cell_type": "markdown",
   "id": "7214dc30-93b6-429d-bd9c-ac1eb070c70d",
   "metadata": {},
   "source": [
    "#### Variables\n",
    "Tensors are *immutable objects*; that is, their state cannot be modified. The operations they encapsulate (or the values of a constant Tensor) are fixed. Variables are special kinds of Tensors that have *mutable state*, so their values can be updated. This is useful for parameters of a model, such as the weights and biases in a neural network."
   ]
  },
  {
   "cell_type": "code",
   "execution_count": null,
   "id": "7616e9a0-588a-46d4-adf8-8507ca588d49",
   "metadata": {},
   "outputs": [],
   "source": [
    "# Create a TensorFlow Variable\n",
    "\n",
    "initial_value = tf.random.normal((2, 2))\n",
    "u = tf.Variable(initial_value)\n",
    "u"
   ]
  },
  {
   "cell_type": "markdown",
   "id": "6f202cde-d445-40e9-addf-98705eb675a7",
   "metadata": {},
   "source": [
    "This looks very similar to a Tensor. However, Variables come with extra methods for updating their state, such as `assign`, `assign_add` and `assign_sub`."
   ]
  },
  {
   "cell_type": "code",
   "execution_count": null,
   "id": "fd66b159-b8a2-4964-a453-cc30edaa98c9",
   "metadata": {},
   "outputs": [],
   "source": [
    "# Assign a new value to the Variable\n",
    "\n",
    "new_value = 2. * tf.ones((2, 2))\n",
    "u.assign(new_value)\n",
    "u"
   ]
  },
  {
   "cell_type": "code",
   "execution_count": null,
   "id": "83aa8ae5-2f7a-4c6b-a4fc-b623f01fbdba",
   "metadata": {},
   "outputs": [],
   "source": [
    "# Add a value to the Variable\n",
    "\n",
    "increment = tf.constant([[0., 0.], [1., 1.]])\n",
    "u.assign_add(increment)\n",
    "u"
   ]
  },
  {
   "cell_type": "code",
   "execution_count": null,
   "id": "04e0363a-65de-43ee-bc7a-e4779a549020",
   "metadata": {},
   "outputs": [],
   "source": [
    "# Subtract a value from the Variable\n",
    "\n",
    "decrement = tf.constant([[2., 0.], [2., 0.]])\n",
    "u.assign_sub(decrement)\n",
    "u"
   ]
  },
  {
   "cell_type": "markdown",
   "id": "9a8db081-fcc0-4508-a54e-149744cd786d",
   "metadata": {},
   "source": [
    "We will often use Variables in operations within the computational graph. The result of the operation is a Tensor."
   ]
  },
  {
   "cell_type": "code",
   "execution_count": null,
   "id": "cc18fb30-f9aa-4e46-9dc5-7da6aae945f3",
   "metadata": {},
   "outputs": [],
   "source": [
    "# Use a Variable in a simple operation\n",
    "\n",
    "v = tf.Variable([2.6, -0.4])\n",
    "s = v + 1\n",
    "s"
   ]
  },
  {
   "cell_type": "markdown",
   "id": "0f0fc3d7-2021-4407-ad06-d6c9eb67c6a7",
   "metadata": {},
   "source": [
    "### Further reading and resources\n",
    "\n",
    "* TensorFlow documentation: https://www.tensorflow.org/api_docs\n",
    "* TensorFlow tutorials: https://www.tensorflow.org/tutorials"
   ]
  }
 ],
 "metadata": {
  "kernelspec": {
   "display_name": "Python 3 (ipykernel)",
   "language": "python",
   "name": "python3"
  },
  "language_info": {
   "codemirror_mode": {
    "name": "ipython",
    "version": 3
   },
   "file_extension": ".py",
   "mimetype": "text/x-python",
   "name": "python",
   "nbconvert_exporter": "python",
   "pygments_lexer": "ipython3",
   "version": "3.10.12"
  }
 },
 "nbformat": 4,
 "nbformat_minor": 5
}
